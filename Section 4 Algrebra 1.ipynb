{
 "cells": [
  {
   "cell_type": "markdown",
   "metadata": {},
   "source": [
    "# 29. Solving for x\n",
    "Dalam tutorial kali Mike ajar mcm mana nak gunakan sym.symbols() dengan sym.solve()"
   ]
  },
  {
   "cell_type": "code",
   "execution_count": null,
   "metadata": {},
   "outputs": [],
   "source": [
    "import sympy as sym\n",
    "from IPython.display import display, Math\n",
    "\n",
    "\n",
    "# declare x as a symbols\n",
    "x = sym.symbols('x')\n",
    "\n",
    "#exoresion variable\n",
    "expr = 2*x + 4 - 9\n",
    "sym.solve(expr)\n",
    "\n",
    "display(Math('\\\\text{The solution is } %s \\\\text{ is x = }  %g' %(sym.latex(expr), sym.solve(expr)[0]) ))"
   ]
  },
  {
   "cell_type": "code",
   "execution_count": null,
   "metadata": {},
   "outputs": [],
   "source": [
    "expr = x**2 - 4\n",
    "sol = sym.solve(expr)\n",
    "\n",
    "for i in range(0,len(sol)):\n",
    "    print('Solution #' + str(i) + ' is ' + str(sol[i]))"
   ]
  },
  {
   "cell_type": "markdown",
   "metadata": {},
   "source": [
    "### sym.solve()\n",
    "bende ni sangat menakjubkan bagi aku, dia cari sendiri apa yang patut kene solve, tak macam cara traditional kita kene cari sendiri x dia mcm mana bagai."
   ]
  },
  {
   "cell_type": "markdown",
   "metadata": {},
   "source": [
    "### sym.symbols()\n",
    "Tapi nak pakai sym.solve() ni kene pakai sym.symbols() untuk delcare dulu"
   ]
  },
  {
   "cell_type": "code",
   "execution_count": null,
   "metadata": {},
   "outputs": [],
   "source": [
    "x,y = sym.symbols('x,y')\n",
    "\n",
    "expr = x/4 - x*y + 5\n",
    "\n",
    "print(sym.solve(expr))"
   ]
  },
  {
   "cell_type": "markdown",
   "metadata": {},
   "source": [
    "# 30. Solving for x: exercises"
   ]
  },
  {
   "cell_type": "markdown",
   "metadata": {},
   "source": [
    "## Exersice 1"
   ]
  },
  {
   "cell_type": "code",
   "execution_count": null,
   "metadata": {},
   "outputs": [],
   "source": [
    "from IPython.display import display, Math\n",
    "import sympy as sym\n",
    "\n",
    "\n",
    "q = sym.symbols('q')\n",
    "\n",
    "expr1 = (3*q) + (4/q) + 3 - 5*q - (1/q) - 1\n",
    "\n",
    "sol = sym.solve(expr1,q)\n",
    "\n",
    "# display(Math(sym.latex(expr1)))\n",
    "display(Math(sym.latex(expr1.simplify())))\n",
    "display(Math('q = ' + sym.latex(sol)))"
   ]
  },
  {
   "cell_type": "markdown",
   "metadata": {},
   "source": [
    "## Exersice 2"
   ]
  },
  {
   "cell_type": "code",
   "execution_count": null,
   "metadata": {},
   "outputs": [],
   "source": [
    "from IPython.display import display, Math\n",
    "import sympy as sym\n",
    "\n",
    "sym.symbols('q')\n",
    "\n",
    "eq = 2*q + 3*(q**2) - 5/q - 4/(q**3)\n",
    "display(Math(sym.latex(eq)))\n",
    "display(Math(sym.latex(sym.cancel(eq))))\n",
    "\n",
    "\n",
    "\n",
    "# sol = sym.solve(eq)\n",
    "\n",
    "# display(Math(sym.latex(sol)))"
   ]
  },
  {
   "cell_type": "markdown",
   "metadata": {},
   "source": [
    "## Exersice 3"
   ]
  },
  {
   "cell_type": "code",
   "execution_count": null,
   "metadata": {},
   "outputs": [],
   "source": [
    "from IPython.display import display, Math\n",
    "import sympy as sym\n",
    "import numpy as np\n",
    "\n",
    "r = sym.symbols('r')\n",
    "\n",
    "expr4 = np.sqrt(3) + np.sqrt(15)*r\n",
    "expr5 = np.sqrt(2) + np.sqrt(10)*r\n",
    "expr6 = expr4/expr5\n",
    "sol = sym.solve(expr6)\n",
    "\n",
    "display(Math(sym.latex(sol)))"
   ]
  },
  {
   "cell_type": "code",
   "execution_count": null,
   "metadata": {},
   "outputs": [],
   "source": [
    "from IPython.display import display, Math\n",
    "import sympy as sym\n",
    "import numpy as np\n",
    "\n",
    "r = sym.symbols('r')\n",
    "\n",
    "exp = (sym.sqrt(3) + sym.sqrt(15)*r) / (sym.sqrt(2) + sym.sqrt(10)*r)\n",
    "\n",
    "display(Math(sym.latex(exp)))\n",
    "display(Math(sym.latex(exp.simplify())))"
   ]
  },
  {
   "cell_type": "markdown",
   "metadata": {},
   "source": [
    "# 31. Expanding terms"
   ]
  },
  {
   "cell_type": "code",
   "execution_count": null,
   "metadata": {},
   "outputs": [],
   "source": [
    "# expending term\n",
    "# a(b+c) = ab + ac\n",
    "\n",
    "import sympy as sym\n",
    "from IPython.display import display, Math\n",
    "from sympy.abc import x\n",
    "\n",
    "\n",
    "term1 = (4*x + 5)\n",
    "term2 = x\n",
    "\n",
    "display(Math(sym.latex(term1*term2)))\n",
    "display(Math(sym.latex(sym.expand(term1*term2))))"
   ]
  },
  {
   "cell_type": "code",
   "execution_count": null,
   "metadata": {},
   "outputs": [],
   "source": [
    "term3 = x - 7\n",
    "\n",
    "\n",
    "display(Math(sym.latex(term1*term3)))\n",
    "display(Math(sym.latex(sym.expand(term1*term3))))"
   ]
  },
  {
   "cell_type": "code",
   "execution_count": null,
   "metadata": {},
   "outputs": [],
   "source": [
    "from sympy.abc import y\n",
    "\n",
    "expr = x*(2*y**2 - 5**x/x)\n",
    "\n",
    "display(Math(sym.latex(expr)))\n",
    "display(Math(sym.latex(sym.expand(expr))))"
   ]
  },
  {
   "cell_type": "markdown",
   "metadata": {},
   "source": [
    "## Exersice: Expanding Terms"
   ]
  },
  {
   "cell_type": "code",
   "execution_count": null,
   "metadata": {},
   "outputs": [],
   "source": [
    "import sympy as sym\n",
    "from sympy.abc import x,y\n",
    "from IPython.display import display, Math\n",
    "import matplotlib.pyplot as plt\n",
    "\n",
    "expr = (4 + x) * (2 - y)\n",
    "\n",
    "for i in range(0,3):\n",
    "    for j in range(0,3):\n",
    "        sol = x.sub(expr,i)\n",
    "        print('When x = %g and y = %g, f(x,y) = %g' %(i,j,sol))\n",
    "        plt.plot(i,j,'s-')\n",
    "\n",
    "\n",
    "plt.grid()        \n",
    "\n",
    "plt.show()\n",
    "        \n",
    "display(Math(sym.latex(sym.expand(expr))))"
   ]
  },
  {
   "cell_type": "markdown",
   "metadata": {},
   "source": [
    "# 32. Creating and accessing matrices with numpy"
   ]
  },
  {
   "cell_type": "code",
   "execution_count": null,
   "metadata": {},
   "outputs": [],
   "source": [
    "import sympy as sym\n",
    "import numpy as np\n",
    "from IPython.display import display, Math"
   ]
  },
  {
   "cell_type": "code",
   "execution_count": null,
   "metadata": {},
   "outputs": [],
   "source": [
    "A = np.array([[1,2],[3,4]])\n",
    "\n",
    "print(A)\n",
    "\n",
    "display(Math(sym.latex(sym.sympify(A))))"
   ]
  },
  {
   "cell_type": "code",
   "execution_count": null,
   "metadata": {},
   "outputs": [],
   "source": [
    "mat = np.zeros([4,6])\n",
    "\n",
    "mat[2,4] = 15\n",
    "mat[0,0] = 13\n",
    "\n",
    "mat"
   ]
  },
  {
   "cell_type": "markdown",
   "metadata": {},
   "source": [
    "### Checkerboad\n",
    "0 =  black and 1 = white"
   ]
  },
  {
   "cell_type": "code",
   "execution_count": null,
   "metadata": {},
   "outputs": [],
   "source": [
    "import sympy as sym\n",
    "import numpy as np\n",
    "from IPython.display import display, Math\n",
    "\n",
    "\n",
    "nums = range(0,6)\n",
    "mat = np.zeros([6,6])\n",
    "\n",
    "for i in nums:\n",
    "    for j in nums:\n",
    "        mat[i,j] = (j%2 + i)%2\n",
    "        \n",
    "display(Math(sym.latex(sym.sympify(mat))))"
   ]
  },
  {
   "cell_type": "markdown",
   "metadata": {},
   "source": [
    "### Exersice"
   ]
  },
  {
   "cell_type": "markdown",
   "metadata": {},
   "source": [
    "**Ahmad Hazim** solutions: agak hardcoded"
   ]
  },
  {
   "cell_type": "code",
   "execution_count": null,
   "metadata": {},
   "outputs": [],
   "source": [
    "import sympy as sym\n",
    "import numpy as np\n",
    "from IPython.display import display,Math\n",
    "from sympy.abc import x, y\n",
    "\n",
    "n_range = range(0,3)\n",
    "mat = np.zeros([3,3])\n",
    "\n",
    "for i in n_range:\n",
    "    for j in n_range:\n",
    "        mat[i,j] = (4 + i) * (2 - j)\n",
    "\n",
    "display(Math(sym.latex(sym.sympify(mat))))"
   ]
  },
  {
   "cell_type": "markdown",
   "metadata": {},
   "source": [
    "**Mike** solutions : lebih generic, sbb dia pakai **__.subs(dict)**"
   ]
  },
  {
   "cell_type": "code",
   "execution_count": null,
   "metadata": {},
   "outputs": [],
   "source": [
    "import sympy as sym\n",
    "import numpy as np\n",
    "from IPython.display import display,Math\n",
    "\n",
    "\n",
    "# declare nak pakai var x and y\n",
    "x,y = sym.symbols('x,y')\n",
    "expr = (4 + x) * (2 - y)\n",
    "\n",
    "nrange = range(0,3)\n",
    "mat = np.zeros([len(nrange),len(nrange)])\n",
    "\n",
    "for i in nrange:\n",
    "    for j in nrange:\n",
    "        mat[i,j] = expr.subs({x:i,y:j})\n",
    "        \n",
    "display(Math(sym.latex(sym.sympify(mat))))"
   ]
  },
  {
   "cell_type": "markdown",
   "metadata": {},
   "source": [
    "**Ahmad Hazim** solutions nice!"
   ]
  },
  {
   "cell_type": "code",
   "execution_count": null,
   "metadata": {
    "scrolled": true
   },
   "outputs": [],
   "source": [
    "import sympy as sym\n",
    "import numpy as np\n",
    "from IPython.display import display, Math\n",
    "\n",
    "\n",
    "# declare shape of matrix\n",
    "matrix = np.zeros([10,10], dtype=int)\n",
    "nrange = range(0,10)\n",
    "\n",
    "for i in nrange:\n",
    "    for j in nrange:\n",
    "        matrix[i,j] = (i+1)*(j+1)\n",
    "        \n",
    "\n",
    "display(Math(sym.latex(sym.sympify(matrix))))"
   ]
  },
  {
   "cell_type": "markdown",
   "metadata": {},
   "source": [
    "# 34. Associative, commutative, and distributive properties"
   ]
  },
  {
   "cell_type": "markdown",
   "metadata": {},
   "source": [
    "## Associative\n",
    "Associative ni dari pemahaman aku, kita buat macam mana pun parenthesis dia, jawapan dia tetap sama, dia tetap sama. Macam contoh\n",
    "\n",
    "<b> $ a(b \\times c) = (a \\times b)c $ </b>\n",
    "\n",
    "<b> $ a(bc) = (ab)c $ </b>\n",
    "\n",
    "<b> $ abc = abc $ </b>\n",
    "\n",
    "Benda mcm ni sangat penting dalam linear algebra(matrix), cara kat bawah ni nak tengok sama ada formula ni associative ataupun tidak."
   ]
  },
  {
   "cell_type": "code",
   "execution_count": null,
   "metadata": {},
   "outputs": [],
   "source": [
    "import sympy as sym\n",
    "from sympy.abc import x,y\n",
    "\n",
    "\n",
    "expr1 = x*(4*y)\n",
    "expr2 = (x*4)*y\n",
    "\n",
    "expr1 - expr2"
   ]
  },
  {
   "cell_type": "markdown",
   "metadata": {},
   "source": [
    "## Commutative\n",
    "Kalau dalam matrices, matrices bukan commutative.\n",
    "\n",
    "<b> $ a \\times b = b \\times a $ </b>\n",
    "\n",
    "<b> $ a \\times b \\times c = b \\times a \\times c = c \\times a \\times b $ </b>\n",
    "\n",
    "\n",
    "Benda mcm ni sangat penting dalam linear algebra(matrix)"
   ]
  },
  {
   "cell_type": "code",
   "execution_count": null,
   "metadata": {},
   "outputs": [],
   "source": [
    "import sympy as sym\n",
    "from sympy.abc import x,y\n",
    "\n",
    "\n",
    "e1 = 4*x*y\n",
    "e2 = x*4*y\n",
    "e3 = y*x*4\n",
    "\n",
    "\n",
    "print(e1.subs({x:3,y:2}))\n",
    "print(e2.subs({x:3,y:2}))\n",
    "print(e3.subs({x:3,y:2}))"
   ]
  },
  {
   "cell_type": "markdown",
   "metadata": {},
   "source": [
    "## Distributive Properties\n",
    "Distributive ni mcm sym.expand, expand the formula\n",
    "\n",
    "<b> $ x(y + z) = xy + xz $ </b>\n"
   ]
  },
  {
   "cell_type": "code",
   "execution_count": null,
   "metadata": {},
   "outputs": [],
   "source": [
    "a,b,c,d = sym.symbols('a,b,c,d')\n",
    "\n",
    "expr = (a+b)*(c+d)\n",
    "sym.expand(expr)"
   ]
  },
  {
   "cell_type": "markdown",
   "metadata": {},
   "source": [
    "## Exersice"
   ]
  },
  {
   "cell_type": "code",
   "execution_count": null,
   "metadata": {},
   "outputs": [],
   "source": [
    "# 1. Implement these expression in Python\n",
    "\n",
    "import sympy as sym\n",
    "import numpy as np\n",
    "from IPython.display import display, Math\n",
    "\n",
    "w,x,y,z = sym.symbols('w,x,y,z')\n",
    "\n",
    "x =  w*(4-w) + 1/w**2*(1+w)\n",
    "f1 = x*(y + z)\n",
    "f2 = 3/x + x**2\n",
    "\n",
    "# 2. Display and simplify f1 * x * f2\n",
    "\n",
    "expr = f1 * f2\n",
    "display(Math(sym.latex(sym.sympify(expr))))\n",
    "\n",
    "# 3. Show that the commitative property holds.\n",
    "\n",
    "expr1 = f1 * f2\n",
    "expr2 = f2 * f1\n",
    "\n",
    "display(Math(sym.latex(sym.simplify( f1*f2 - f2*f1))))"
   ]
  },
  {
   "cell_type": "markdown",
   "metadata": {},
   "source": [
    "# 35. Creating and working with Python lists\n",
    "## Exersice"
   ]
  },
  {
   "cell_type": "code",
   "execution_count": null,
   "metadata": {},
   "outputs": [],
   "source": [
    "import numpy as np\n",
    "import sympy as sym\n",
    "from IPython.display import display, Math\n",
    "\n",
    "x = sym.symbols('x')\n",
    "\n",
    "exp1 = 2*x + x*(4-6*x) + x\n",
    "exp2 = -x*(2/x + 4/x**2) + (4+x)/4*x\n",
    "exp3 = (x+3)*(x-3)*x*1/(9*x)\n",
    "\n",
    "lst = [exp1,exp2,exp3]\n",
    "\n",
    "for i in range(len(lst)):\n",
    "    display(Math(sym.latex('%s \\\\quad \\\\iff \\\\quad %s' %(sym.latex(lst[i]),sym.latex(sym.expand(lst[i]))))))"
   ]
  },
  {
   "cell_type": "markdown",
   "metadata": {},
   "source": [
    "# 36. More on \"slicing\" in Python"
   ]
  },
  {
   "cell_type": "code",
   "execution_count": null,
   "metadata": {},
   "outputs": [],
   "source": [
    "vec = list(range(10,21))\n",
    "vec"
   ]
  },
  {
   "cell_type": "code",
   "execution_count": null,
   "metadata": {},
   "outputs": [],
   "source": [
    "vec[2:5]"
   ]
  },
  {
   "cell_type": "markdown",
   "metadata": {},
   "source": [
    "# 37. Greatest common denominator GCD"
   ]
  },
  {
   "cell_type": "code",
   "execution_count": null,
   "metadata": {},
   "outputs": [],
   "source": [
    "import sympy as sym\n",
    "import numpy as np\n",
    "from IPython.display import display, Math\n",
    "import math\n",
    "\n",
    "\n",
    "math.gcd(2,4)"
   ]
  },
  {
   "cell_type": "code",
   "execution_count": null,
   "metadata": {},
   "outputs": [],
   "source": [
    "a = 16\n",
    "b = 88\n",
    "\n",
    "math.gcd(a,b)\n",
    "display(Math(sym.latex(('\\\\frac{%g}{%g}' %(a,b)))))"
   ]
  },
  {
   "cell_type": "markdown",
   "metadata": {},
   "source": [
    "## Exersice 1"
   ]
  },
  {
   "cell_type": "code",
   "execution_count": null,
   "metadata": {},
   "outputs": [],
   "source": [
    "#gcd(ca,cb) =  cgcd(a,b)\n",
    "\n",
    "import sympy as sym\n",
    "\n",
    "a,b,c = sym.symbols('a,b,c')\n",
    "\n",
    "a = 15\n",
    "b = 6\n",
    "c = 3\n",
    "\n",
    "\n",
    "print(sym.gcd(c*a,c*b))\n",
    "print( c*sym.gcd(a,b) )"
   ]
  },
  {
   "cell_type": "markdown",
   "metadata": {},
   "source": [
    "## Exersice 2"
   ]
  },
  {
   "cell_type": "markdown",
   "metadata": {},
   "source": [
    "1. Create a matrix that contains 10 rows and 15 columns, where each element is qual to 99"
   ]
  },
  {
   "cell_type": "code",
   "execution_count": null,
   "metadata": {},
   "outputs": [],
   "source": [
    "import numpy as np\n",
    "\n",
    "mat = np.zeros([10,15], dtype = int)\n",
    "\n",
    "for i in range(0,10):\n",
    "    for j in range(0,15):\n",
    "        mat[i,j] = 99\n",
    "\n",
    "mat"
   ]
  },
  {
   "cell_type": "code",
   "execution_count": null,
   "metadata": {},
   "outputs": [],
   "source": [
    "import numpy as np\n",
    "\n",
    "mat = np.zeros([10,15])\n",
    "\n",
    "for i in range(0,10):\n",
    "    for j in range(0,15):\n",
    "        mat[i,j] = math.gcd(i+1,j+1)\n",
    "\n",
    "display(Math(sym.latex(sym.sympify(mat))))"
   ]
  },
  {
   "cell_type": "markdown",
   "metadata": {},
   "source": [
    "# 39. Introduction to Python dictionaries"
   ]
  },
  {
   "cell_type": "code",
   "execution_count": null,
   "metadata": {},
   "outputs": [],
   "source": [
    "D = dict(fruit=['banana','apple'], numbers=[1,3,4,2,7])\n",
    "\n",
    "print(D)"
   ]
  },
  {
   "cell_type": "code",
   "execution_count": null,
   "metadata": {},
   "outputs": [],
   "source": [
    "D.get('fruit')[1]"
   ]
  },
  {
   "cell_type": "code",
   "execution_count": null,
   "metadata": {},
   "outputs": [],
   "source": [
    "for item in D:\n",
    "    print(D[item])"
   ]
  },
  {
   "cell_type": "code",
   "execution_count": null,
   "metadata": {},
   "outputs": [],
   "source": [
    "print(D)"
   ]
  },
  {
   "cell_type": "markdown",
   "metadata": {},
   "source": [
    "## Exersice"
   ]
  },
  {
   "cell_type": "markdown",
   "metadata": {},
   "source": [
    "### My solution\n",
    "Computetional cost"
   ]
  },
  {
   "cell_type": "code",
   "execution_count": null,
   "metadata": {},
   "outputs": [],
   "source": [
    "import sympy as sym\n",
    "import numpy as np\n",
    "from IPython.display import display, Math\n",
    "\n",
    "x,y = sym.symbols('x,y')\n",
    "\n",
    "expr = {\n",
    "            'expr1' : 4 * x - 6,\n",
    "            'expr2' : x ** 2 - 9,\n",
    "            'expr3' : sym.sin(y)\n",
    "        }\n",
    "\n",
    "for item in expr:\n",
    "    \n",
    "    conv = str(expr[item]) # to make them iterable\n",
    "    \n",
    "    for char in conv:\n",
    "        \n",
    "        if char == x:\n",
    "            print('Equations solving for X:')\n",
    "            display(Math(sym.latex \\\n",
    "                         ( '%s \\\\quad \\\\Rightarrow \\\\quad \\\\text{X = } %s' \\\n",
    "                          %(sym.latex(expr[item]),sym.latex(sym.solve(expr[item]))))))\n",
    "            \n",
    "        elif char == y:\n",
    "            print('Equations solving for Y:')\n",
    "            display(Math(sym.latex \\\n",
    "                         ( '%s \\\\quad \\\\Rightarrow \\\\quad \\\\text{X = } %s' \\\n",
    "                          %(sym.latex(expr[item]),sym.latex(sym.solve(expr[item]))))))\n"
   ]
  },
  {
   "cell_type": "markdown",
   "metadata": {},
   "source": [
    "### Mike Solution\n",
    "Lebih kemas"
   ]
  },
  {
   "cell_type": "code",
   "execution_count": null,
   "metadata": {},
   "outputs": [],
   "source": [
    "import sympy as sym\n",
    "import numpy as np\n",
    "from IPython.display import display, Math\n",
    "\n",
    "x,y = sym.symbols('x,y')\n",
    "\n",
    "expr = {\n",
    "            'exprX' : [4 * x - 6,x ** 2 - 9],\n",
    "            'exprY' : [sym.sin(y)]\n",
    "        }\n",
    "\n",
    "for keyi in expr:\n",
    "    print('Solutions for equations involving ' + keyi[-1] + ':')\n",
    "    \n",
    "    for expri in expr[keyi]:\n",
    "        display(Math(sym.latex( '%s \\\\quad \\\\Rightarrow \\\\quad \\\\text{X = } %s' %(sym.latex(expri),sym.latex(sym.solve(expri))))))\n",
    "\n"
   ]
  },
  {
   "cell_type": "markdown",
   "metadata": {},
   "source": [
    "### Pengajaran\n",
    "Aku punya solution terlalu tertutup, apa yang aku cuba nak sampaikan yang sepatutnya tak perlu aku nak provide 2 kali ayat yang sama, cuma tukar str yang aku nak kat dalam ayat tu je.\n",
    "\n",
    "Macam contoh, aku tulis dua kali \"Solutions for equations involving X\" lepas tu aku provide \"Solutions for equations involving Y\".\n",
    "\n",
    "Sepatutnya aku just buat for loop untuk ayat tu, then + dengan str X or Y tu je"
   ]
  },
  {
   "cell_type": "markdown",
   "metadata": {},
   "source": [
    "# 40. Prime factorization\n",
    "Difficulties = ⭐⭐⭐⭐ out of **5**\n",
    "\n",
    "Chapter ni kene visit balik, sbb ni yang paling lama aku nak faham, sbb dia retrieve value dari dict dengan menggunakan list."
   ]
  },
  {
   "cell_type": "code",
   "execution_count": 33,
   "metadata": {},
   "outputs": [
    {
     "name": "stdout",
     "output_type": "stream",
     "text": [
      "10 is a composite number with prime factors [2, 5]\n"
     ]
    }
   ],
   "source": [
    "import sympy as sym\n",
    "\n",
    "number = 10\n",
    "\n",
    "dict_fact = sym.factorint(number)\n",
    "list_keys = list(dict_fact.keys())\n",
    "\n",
    "if len(list_keys) == 1 and dict_fact[list_keys[0]] == 1:\n",
    "    print('%s is a prime number' %number)\n",
    "    \n",
    "else:\n",
    "    print('%s is a composite number with prime factors %s' %(number, list_keys))"
   ]
  },
  {
   "cell_type": "code",
   "execution_count": 34,
   "metadata": {},
   "outputs": [
    {
     "name": "stdout",
     "output_type": "stream",
     "text": [
      "2 is a prime number\n",
      "3 is a prime number\n",
      "4 is a composite number with prime factors [2]\n",
      "5 is a prime number\n",
      "6 is a composite number with prime factors [2, 3]\n",
      "7 is a prime number\n",
      "8 is a composite number with prime factors [2]\n",
      "9 is a composite number with prime factors [3]\n",
      "10 is a composite number with prime factors [2, 5]\n",
      "11 is a prime number\n",
      "12 is a composite number with prime factors [2, 3]\n",
      "13 is a prime number\n",
      "14 is a composite number with prime factors [2, 7]\n",
      "15 is a composite number with prime factors [3, 5]\n",
      "16 is a composite number with prime factors [2]\n",
      "17 is a prime number\n",
      "18 is a composite number with prime factors [2, 3]\n",
      "19 is a prime number\n",
      "20 is a composite number with prime factors [2, 5]\n",
      "21 is a composite number with prime factors [3, 7]\n",
      "22 is a composite number with prime factors [2, 11]\n",
      "23 is a prime number\n",
      "24 is a composite number with prime factors [2, 3]\n",
      "25 is a composite number with prime factors [5]\n",
      "26 is a composite number with prime factors [2, 13]\n",
      "27 is a composite number with prime factors [3]\n",
      "28 is a composite number with prime factors [2, 7]\n",
      "29 is a prime number\n",
      "30 is a composite number with prime factors [2, 3, 5]\n",
      "31 is a prime number\n",
      "32 is a composite number with prime factors [2]\n",
      "33 is a composite number with prime factors [3, 11]\n",
      "34 is a composite number with prime factors [2, 17]\n",
      "35 is a composite number with prime factors [5, 7]\n",
      "36 is a composite number with prime factors [2, 3]\n",
      "37 is a prime number\n",
      "38 is a composite number with prime factors [2, 19]\n",
      "39 is a composite number with prime factors [3, 13]\n",
      "40 is a composite number with prime factors [2, 5]\n",
      "41 is a prime number\n",
      "42 is a composite number with prime factors [2, 3, 7]\n",
      "43 is a prime number\n",
      "44 is a composite number with prime factors [2, 11]\n",
      "45 is a composite number with prime factors [3, 5]\n",
      "46 is a composite number with prime factors [2, 23]\n",
      "47 is a prime number\n",
      "48 is a composite number with prime factors [2, 3]\n",
      "49 is a composite number with prime factors [7]\n",
      "50 is a composite number with prime factors [2, 5]\n"
     ]
    }
   ],
   "source": [
    "import sympy as sym\n",
    "\n",
    "for i in range(2,51):\n",
    "    \n",
    "    dict_fact = sym.factorint(i)\n",
    "    list_keys = list(dict_fact.keys())\n",
    "    \n",
    "    if len(list_keys) == 1 and dict_fact[list_keys[0]] == 1:\n",
    "        print('%s is a prime number' %i)\n",
    "\n",
    "    else:\n",
    "        print('%s is a composite number with prime factors %s' %(i, list_keys))"
   ]
  },
  {
   "cell_type": "markdown",
   "metadata": {},
   "source": [
    "Mike solutions"
   ]
  },
  {
   "cell_type": "code",
   "execution_count": 32,
   "metadata": {},
   "outputs": [
    {
     "name": "stdout",
     "output_type": "stream",
     "text": [
      "2 is a prime number\n",
      "3 is a prime number\n",
      "4 is a composite number with prime factors: dict_keys([2])\n",
      "5 is a prime number\n",
      "6 is a composite number with prime factors: dict_keys([2, 3])\n",
      "7 is a prime number\n",
      "8 is a composite number with prime factors: dict_keys([2])\n",
      "9 is a composite number with prime factors: dict_keys([3])\n",
      "10 is a composite number with prime factors: dict_keys([2, 5])\n",
      "11 is a prime number\n",
      "12 is a composite number with prime factors: dict_keys([2, 3])\n",
      "13 is a prime number\n",
      "14 is a composite number with prime factors: dict_keys([2, 7])\n",
      "15 is a composite number with prime factors: dict_keys([3, 5])\n",
      "16 is a composite number with prime factors: dict_keys([2])\n",
      "17 is a prime number\n",
      "18 is a composite number with prime factors: dict_keys([2, 3])\n",
      "19 is a prime number\n",
      "20 is a composite number with prime factors: dict_keys([2, 5])\n",
      "21 is a composite number with prime factors: dict_keys([3, 7])\n",
      "22 is a composite number with prime factors: dict_keys([2, 11])\n",
      "23 is a prime number\n",
      "24 is a composite number with prime factors: dict_keys([2, 3])\n",
      "25 is a composite number with prime factors: dict_keys([5])\n",
      "26 is a composite number with prime factors: dict_keys([2, 13])\n",
      "27 is a composite number with prime factors: dict_keys([3])\n",
      "28 is a composite number with prime factors: dict_keys([2, 7])\n",
      "29 is a prime number\n",
      "30 is a composite number with prime factors: dict_keys([2, 3, 5])\n",
      "31 is a prime number\n",
      "32 is a composite number with prime factors: dict_keys([2])\n",
      "33 is a composite number with prime factors: dict_keys([3, 11])\n",
      "34 is a composite number with prime factors: dict_keys([2, 17])\n",
      "35 is a composite number with prime factors: dict_keys([5, 7])\n",
      "36 is a composite number with prime factors: dict_keys([2, 3])\n",
      "37 is a prime number\n",
      "38 is a composite number with prime factors: dict_keys([2, 19])\n",
      "39 is a composite number with prime factors: dict_keys([3, 13])\n",
      "40 is a composite number with prime factors: dict_keys([2, 5])\n",
      "41 is a prime number\n",
      "42 is a composite number with prime factors: dict_keys([2, 3, 7])\n",
      "43 is a prime number\n",
      "44 is a composite number with prime factors: dict_keys([2, 11])\n",
      "45 is a composite number with prime factors: dict_keys([3, 5])\n",
      "46 is a composite number with prime factors: dict_keys([2, 23])\n",
      "47 is a prime number\n",
      "48 is a composite number with prime factors: dict_keys([2, 3])\n",
      "49 is a composite number with prime factors: dict_keys([7])\n",
      "50 is a composite number with prime factors: dict_keys([2, 5])\n"
     ]
    }
   ],
   "source": [
    "import sympy as sym\n",
    "\n",
    "nums = range(2,51)\n",
    "\n",
    "for numi in nums:\n",
    "    di = sym.factorint(numi)\n",
    "    ks = list(di.keys())\n",
    "    \n",
    "    if len(di) == 1 and di[ks[0]] == 1:\n",
    "        print('%g is a prime number' %numi)\n",
    "    else:\n",
    "        print('%g is a composite number with prime factors: %s' %(numi, di.keys()))"
   ]
  },
  {
   "cell_type": "markdown",
   "metadata": {},
   "source": [
    "# 41. Solving inequalities"
   ]
  },
  {
   "cell_type": "code",
   "execution_count": 20,
   "metadata": {},
   "outputs": [
    {
     "data": {
      "text/latex": [
       "$\\displaystyle 2 < x \\wedge x < \\infty$"
      ],
      "text/plain": [
       "<IPython.core.display.Math object>"
      ]
     },
     "metadata": {},
     "output_type": "display_data"
    }
   ],
   "source": [
    "import sympy as sym\n",
    "from IPython.display import display, Math\n",
    "\n",
    "\n",
    "x = sym.symbols('x')\n",
    "\n",
    "expr = 4*x > 8\n",
    "display(Math(sym.latex(sym.solve(expr))))"
   ]
  },
  {
   "cell_type": "code",
   "execution_count": 21,
   "metadata": {},
   "outputs": [
    {
     "data": {
      "text/latex": [
       "$\\displaystyle \\left(-\\infty < x \\wedge x < -3\\right) \\vee \\left(1 < x \\wedge x < \\infty\\right)$"
      ],
      "text/plain": [
       "<IPython.core.display.Math object>"
      ]
     },
     "metadata": {},
     "output_type": "display_data"
    }
   ],
   "source": [
    "import sympy as sym\n",
    "from IPython.display import display, Math\n",
    "\n",
    "\n",
    "x = sym.symbols('x')\n",
    "\n",
    "expr = (x-1)*(x+3) > 0\n",
    "display(Math(sym.latex(sym.solve(expr))))"
   ]
  },
  {
   "cell_type": "code",
   "execution_count": 24,
   "metadata": {},
   "outputs": [
    {
     "data": {
      "text/latex": [
       "$\\displaystyle a x > \\frac{b^{2}}{c}$"
      ],
      "text/plain": [
       "<IPython.core.display.Math object>"
      ]
     },
     "metadata": {},
     "output_type": "display_data"
    }
   ],
   "source": [
    "import sympy as sym\n",
    "from IPython.display import display, Math\n",
    "\n",
    "\n",
    "a,b,c = sym.symbols('a,b,c')\n",
    "\n",
    "expr = a*x > b**2/c\n",
    "display(Math(sym.latex(sym.solve(expr, x))))"
   ]
  },
  {
   "cell_type": "markdown",
   "metadata": {},
   "source": [
    "## Exersice: Expanding Terms"
   ]
  },
  {
   "cell_type": "code",
   "execution_count": 28,
   "metadata": {},
   "outputs": [
    {
     "data": {
      "text/latex": [
       "$\\displaystyle \\frac{4}{3} - \\frac{x}{6} \\leq \\frac{5 x}{4} - \\frac{1}{2}$"
      ],
      "text/plain": [
       "<IPython.core.display.Math object>"
      ]
     },
     "metadata": {},
     "output_type": "display_data"
    },
    {
     "data": {
      "text/latex": [
       "$\\displaystyle \\frac{22}{17} \\leq x \\wedge x < \\infty$"
      ],
      "text/plain": [
       "<IPython.core.display.Math object>"
      ]
     },
     "metadata": {},
     "output_type": "display_data"
    }
   ],
   "source": [
    "import sympy as sym\n",
    "from IPython.display import display,Math\n",
    "\n",
    "expr = (3*x)/2 + (4-5*x)/3 <= 2 - 5*(2-x)/4\n",
    "\n",
    "\n",
    "display(Math(sym.latex(expr)))\n",
    "display(Math(sym.latex(sym.solve(expr,x))))"
   ]
  },
  {
   "cell_type": "markdown",
   "metadata": {},
   "source": [
    "# 42. Adding polynomials\n",
    "Chapter ni Mike paling excited, sbb dia kata **Polynomial** ni banyak digunakan dalam aplied, abstract Mathematic termasuk linear algebra.\n",
    "\n",
    "In this tutorial, I will learn:\n",
    "- what \"polynomials\" are\n",
    "- how to work with polynomials in Python\n",
    "- how to add and substract polynomials"
   ]
  },
  {
   "cell_type": "markdown",
   "metadata": {},
   "source": [
    "## Ingat POLYNOMIAL ingat COEFFICIENT!\n",
    "Dalam polynomial, nak pakai dia ni kene **DECLARE** dulu dulu pakai sym.Poly() class."
   ]
  },
  {
   "cell_type": "code",
   "execution_count": 28,
   "metadata": {},
   "outputs": [],
   "source": [
    "import sympy as sym\n",
    "import numpy as bp\n",
    "from IPython.display import display, Math\n",
    "from sympy.abc import x\n",
    "\n",
    "\n",
    "p1 = 2*x**3 + x**2 - 2\n",
    "p2 = x**3 - x**4 - 4*x**2\n",
    "\n",
    "# declare Poly\n",
    "poli = sym.Poly(p1)"
   ]
  },
  {
   "cell_type": "markdown",
   "metadata": {},
   "source": [
    "# Poly methods\n",
    "Dalam Poly class ada beberapa methods yang kerap digunakan, \n",
    "### Methods:\n",
    "- degree()\n",
    "- coeffs()\n",
    "- as_expr()\n",
    "\n",
    "### Functions:\n",
    "- declaredPoly.eval(param)\n",
    "\n",
    "eval() ni sama macam subs()\n",
    "\n",
    "### sym.degree()\n",
    "\n",
    "Method ni untuk retrieve degree\n",
    "\n",
    "### sym.as_expr()\n",
    "\n",
    "Method ni untuk retrieve existing formula"
   ]
  },
  {
   "cell_type": "code",
   "execution_count": null,
   "metadata": {},
   "outputs": [],
   "source": []
  },
  {
   "cell_type": "code",
   "execution_count": 9,
   "metadata": {},
   "outputs": [
    {
     "data": {
      "image/png": "[encoded data removed]",
      "text/plain": [
       "<Figure size 432x288 with 1 Axes>"
      ]
     },
     "metadata": {
      "needs_background": "light"
     },
     "output_type": "display_data"
    }
   ],
   "source": [
    "import sympy as sym\n",
    "from IPython.display import display, Math\n",
    "from sympy.abc import x \n",
    "import matplotlib.pyplot as plt\n",
    "\n",
    "\n",
    "p1 = sym.Poly(2*x**3 + x**2 - 2)\n",
    "p2 = sym.Poly(x**3 - x**4 - 4*x**2)\n",
    "\n",
    "for i in range(-10,11):\n",
    "    plt.plot(i,p1.eval(i), 'o-')\n",
    "    \n",
    "\n",
    "plt.grid()    \n",
    "plt.show()"
   ]
  },
  {
   "cell_type": "code",
   "execution_count": 10,
   "metadata": {},
   "outputs": [
    {
     "data": {
      "text/plain": [
       "[2, 1, -2]"
      ]
     },
     "execution_count": 10,
     "metadata": {},
     "output_type": "execute_result"
    }
   ],
   "source": [
    "p1.coeffs()"
   ]
  },
  {
   "cell_type": "code",
   "execution_count": 11,
   "metadata": {},
   "outputs": [
    {
     "data": {
      "text/plain": [
       "[-1, 1, -4]"
      ]
     },
     "execution_count": 11,
     "metadata": {},
     "output_type": "execute_result"
    }
   ],
   "source": [
    "p2.coeffs()"
   ]
  },
  {
   "cell_type": "code",
   "execution_count": 19,
   "metadata": {},
   "outputs": [
    {
     "name": "stdout",
     "output_type": "stream",
     "text": [
      "3\n",
      "2\n",
      "3\n"
     ]
    }
   ],
   "source": [
    "import sympy as sym\n",
    "from IPython.display import display, Math\n",
    "from sympy.abc import x \n",
    "import matplotlib.pyplot as plt\n",
    "\n",
    "\n",
    "expr1 = sym.Poly(x**2 + 2*x)\n",
    "expr2 = sym.Poly(-x**3 + 4*x)\n",
    "expr3 = sym.Poly(x**5 - x**4 + x/(4+4))\n",
    "\n",
    "def conv(expr):\n",
    "    \n",
    "    if expr.degree() % 2 == 0:\n",
    "        return sum(expr.coeffs())\n",
    "    else:\n",
    "        return len(expr.coeffs())\n",
    "    \n",
    "print(conv(expr1))\n",
    "print(conv(expr2))\n",
    "print(conv(expr3))"
   ]
  },
  {
   "cell_type": "markdown",
   "metadata": {},
   "source": [
    "# 43. Multiplying polynomials\n"
   ]
  },
  {
   "cell_type": "markdown",
   "metadata": {},
   "source": [
    "## Exersice"
   ]
  },
  {
   "cell_type": "code",
   "execution_count": 25,
   "metadata": {},
   "outputs": [
    {
     "name": "stdout",
     "output_type": "stream",
     "text": [
      "-1085833.80000000\n",
      "-1085833.80000000\n"
     ]
    }
   ],
   "source": [
    "import sympy as sym\n",
    "from IPython.display import display, Math\n",
    "from sympy.abc import x,y\n",
    "\n",
    "\n",
    "\n",
    "fxy = 4*x**4 - 3*x**2 + x*y**2 - 9*y**3\n",
    "gxy = -x**3 + 6*x**2*y + 0.8*y**3\n",
    "\n",
    "def mul_sub(exp1, exp2):\n",
    "    \n",
    "    ans = sym.Poly(exp1)*sym.Poly(exp2)\n",
    "    print(ans.eval({x:5,y:-2}))\n",
    "    \n",
    "    \n",
    "def sub_mul(exp1, exp2):\n",
    "    \n",
    "    poly1 = fxy.eval({x:5,y:-2})\n",
    "    poly2 = fxy.eval({x:5,y:-2})\n",
    "    print(poly1*poly2)\n",
    "    \n",
    "mul_sub(fxy,gxy)\n",
    "mul_sub(gxy,fxy)"
   ]
  },
  {
   "cell_type": "markdown",
   "metadata": {},
   "source": [
    "# 44. Dividing by polynomials"
   ]
  },
  {
   "cell_type": "code",
   "execution_count": 37,
   "metadata": {},
   "outputs": [
    {
     "data": {
      "text/latex": [
       "$\\displaystyle \\frac{x^{6} + 2 x^{4} + 6 x - 5}{x^{3} + 3}$"
      ],
      "text/plain": [
       "<IPython.core.display.Math object>"
      ]
     },
     "metadata": {},
     "output_type": "display_data"
    },
    {
     "data": {
      "text/latex": [
       "$\\displaystyle \\frac{x^{6} + 2 x^{4} + 6 x - 6}{x^{3} + 3}$"
      ],
      "text/plain": [
       "<IPython.core.display.Math object>"
      ]
     },
     "metadata": {},
     "output_type": "display_data"
    },
    {
     "data": {
      "text/latex": [
       "$\\displaystyle \\frac{x^{6} + 2 x^{4} + 6 x - 7}{x^{3} + 3}$"
      ],
      "text/plain": [
       "<IPython.core.display.Math object>"
      ]
     },
     "metadata": {},
     "output_type": "display_data"
    },
    {
     "data": {
      "text/latex": [
       "$\\displaystyle \\frac{x^{6} + 2 x^{4} + 6 x - 8}{x^{3} + 3}$"
      ],
      "text/plain": [
       "<IPython.core.display.Math object>"
      ]
     },
     "metadata": {},
     "output_type": "display_data"
    },
    {
     "data": {
      "text/latex": [
       "$\\displaystyle \\frac{x^{6} + 2 x^{4} + 6 x - 9}{x^{3} + 3}$"
      ],
      "text/plain": [
       "<IPython.core.display.Math object>"
      ]
     },
     "metadata": {},
     "output_type": "display_data"
    },
    {
     "data": {
      "text/latex": [
       "$\\displaystyle \\frac{x^{6} + 2 x^{4} + 6 x - 10}{x^{3} + 3}$"
      ],
      "text/plain": [
       "<IPython.core.display.Math object>"
      ]
     },
     "metadata": {},
     "output_type": "display_data"
    },
    {
     "data": {
      "text/latex": [
       "$\\displaystyle \\frac{x^{6} + 2 x^{4} + 6 x - 11}{x^{3} + 3}$"
      ],
      "text/plain": [
       "<IPython.core.display.Math object>"
      ]
     },
     "metadata": {},
     "output_type": "display_data"
    },
    {
     "data": {
      "text/latex": [
       "$\\displaystyle \\frac{x^{6} + 2 x^{4} + 6 x - 12}{x^{3} + 3}$"
      ],
      "text/plain": [
       "<IPython.core.display.Math object>"
      ]
     },
     "metadata": {},
     "output_type": "display_data"
    },
    {
     "data": {
      "text/latex": [
       "$\\displaystyle \\frac{x^{6} + 2 x^{4} + 6 x - 13}{x^{3} + 3}$"
      ],
      "text/plain": [
       "<IPython.core.display.Math object>"
      ]
     },
     "metadata": {},
     "output_type": "display_data"
    },
    {
     "data": {
      "text/latex": [
       "$\\displaystyle \\frac{x^{6} + 2 x^{4} + 6 x - 14}{x^{3} + 3}$"
      ],
      "text/plain": [
       "<IPython.core.display.Math object>"
      ]
     },
     "metadata": {},
     "output_type": "display_data"
    },
    {
     "data": {
      "text/latex": [
       "$\\displaystyle \\frac{x^{6} + 2 x^{4} + 6 x - 15}{x^{3} + 3}$"
      ],
      "text/plain": [
       "<IPython.core.display.Math object>"
      ]
     },
     "metadata": {},
     "output_type": "display_data"
    }
   ],
   "source": [
    "import sympy as sym\n",
    "from sympy.abc import x,y\n",
    "from IPython.display import display, Math\n",
    "\n",
    "eq = (x**6 + 2*x**4 + 6*x - y)/(x**3 + 3)\n",
    "# p1 = sym.Poly(eq)\n",
    "# display(Math(sym.latex(sym.simplify(eq))))\n",
    "\n",
    "\n",
    "for i in range(5,16):\n",
    "    display(Math(sym.latex(eq.subs(y,i))))"
   ]
  },
  {
   "cell_type": "code",
   "execution_count": 10,
   "metadata": {},
   "outputs": [
    {
     "data": {
      "text/latex": [
       "$\\displaystyle \\frac{x^{6}}{x^{3} + 3} + \\frac{2 x^{4}}{x^{3} + 3} + \\frac{6 x}{x^{3} + 3} - \\frac{6}{x^{3} + 3}$"
      ],
      "text/plain": [
       "x**6/(x**3 + 3) + 2*x**4/(x**3 + 3) + 6*x/(x**3 + 3) - 6/(x**3 + 3)"
      ]
     },
     "execution_count": 10,
     "metadata": {},
     "output_type": "execute_result"
    }
   ],
   "source": [
    "sym.cancel(p1.eval(y, 6))\n"
   ]
  },
  {
   "cell_type": "code",
   "execution_count": null,
   "metadata": {},
   "outputs": [],
   "source": []
  },
  {
   "cell_type": "code",
   "execution_count": null,
   "metadata": {},
   "outputs": [],
   "source": []
  },
  {
   "cell_type": "code",
   "execution_count": null,
   "metadata": {},
   "outputs": [],
   "source": []
  },
  {
   "cell_type": "code",
   "execution_count": null,
   "metadata": {},
   "outputs": [],
   "source": []
  },
  {
   "cell_type": "code",
   "execution_count": null,
   "metadata": {},
   "outputs": [],
   "source": []
  },
  {
   "cell_type": "code",
   "execution_count": null,
   "metadata": {},
   "outputs": [],
   "source": []
  },
  {
   "cell_type": "code",
   "execution_count": 41,
   "metadata": {},
   "outputs": [
    {
     "data": {
      "text/latex": [
       "$\\displaystyle (2 x^{3} + x^{2} - 2) + (- x^{4} + x^{3} - 4 x^{2}) = - x^{4} + 3 x^{3} - 3 x^{2} - 2$"
      ],
      "text/plain": [
       "<IPython.core.display.Math object>"
      ]
     },
     "metadata": {},
     "output_type": "display_data"
    }
   ],
   "source": [
    "import sympy as sym\n",
    "from IPython.display import display, Math\n",
    "from sympy.abc import x\n",
    "\n",
    "\n",
    "p1 = 2*x**3 + x**2 - 2\n",
    "p2 = x**3 - x**4 - 4*x**2\n",
    "\n",
    "display(Math('(%s) + (%s) = %s' %(sym.latex(p1),sym.latex(p2),sym.latex(p1+p2))))"
   ]
  },
  {
   "cell_type": "markdown",
   "metadata": {},
   "source": [
    "### Declare Polynomial\n",
    "\n",
    "By using sym.Poly(param)"
   ]
  },
  {
   "cell_type": "code",
   "execution_count": 22,
   "metadata": {},
   "outputs": [
    {
     "data": {
      "text/latex": [
       "$\\displaystyle \\operatorname{Poly}{\\left( 2 x^{3} + x^{2} - x, x, domain=\\mathbb{Z} \\right)}$"
      ],
      "text/plain": [
       "<IPython.core.display.Math object>"
      ]
     },
     "metadata": {},
     "output_type": "display_data"
    }
   ],
   "source": [
    "import sympy as sym\n",
    "from IPython.display import display, Math\n",
    "\n",
    "p1 = sym.Poly(2*x**3 + x**2 - x)\n",
    "\n",
    "display(Math(sym.latex(p1)))"
   ]
  },
  {
   "cell_type": "code",
   "execution_count": 40,
   "metadata": {},
   "outputs": [
    {
     "data": {
      "image/png": "[encoded data removed]",
      "text/plain": [
       "<Figure size 432x288 with 1 Axes>"
      ]
     },
     "metadata": {
      "needs_background": "light"
     },
     "output_type": "display_data"
    }
   ],
   "source": [
    "import matplotlib.pyplot as plt\n",
    "import sympy as sym\n",
    "\n",
    "x = sym.symbols('x')\n",
    "p1 = sym.Poly(2*x**3 + x**2 - x)\n",
    "\n",
    "for i in range(-10,11):\n",
    "    plt.plot(i,p1.eval(i), 'o-')\n",
    "    \n",
    "plt.grid()\n",
    "plt.show()"
   ]
  },
  {
   "cell_type": "code",
   "execution_count": 50,
   "metadata": {},
   "outputs": [
    {
     "data": {
      "text/plain": [
       "[2, 1, -1]"
      ]
     },
     "execution_count": 50,
     "metadata": {},
     "output_type": "execute_result"
    }
   ],
   "source": [
    "p1.coeffs()"
   ]
  },
  {
   "cell_type": "markdown",
   "metadata": {},
   "source": [
    "## Exersice"
   ]
  },
  {
   "cell_type": "markdown",
   "metadata": {},
   "source": [
    "**Ahmad Hazim** solution"
   ]
  },
  {
   "cell_type": "code",
   "execution_count": 11,
   "metadata": {},
   "outputs": [
    {
     "name": "stdout",
     "output_type": "stream",
     "text": [
      "3\n",
      "2\n",
      "3\n"
     ]
    }
   ],
   "source": [
    "import sympy as sym\n",
    "from sympy.abc import x\n",
    "from IPython.display import display, Math\n",
    "\n",
    "\n",
    "exp1 = x**2 + 2*x\n",
    "exp2 = -x**3 + 4**x\n",
    "exp3 = x**5 - x**4 + x/(4+4)\n",
    "\n",
    "#declaration\n",
    "p1 = sym.Poly(exp1)\n",
    "p2 = sym.Poly(exp2)\n",
    "p3 = sym.Poly(exp3)\n",
    "\n",
    "p_lst = [p1,p2,p3]\n",
    "\n",
    "for poly in p_lst:\n",
    "    \n",
    "    # if the degree is even, sum the coefficients\n",
    "    if poly.degree() % 2 == 0:\n",
    "        print(sum(poly.coeffs()))\n",
    "        \n",
    "    # if the degree is odd, count the coefficients\n",
    "    else:\n",
    "        print(len(poly.coeffs()))"
   ]
  },
  {
   "cell_type": "markdown",
   "metadata": {},
   "source": [
    "**Mike X** solution. Benda baru atau terlepas pandang dari solution Mike ni, pakai **sym.degree()** method dengan **sym.as_expr()** method\n",
    "\n",
    "### sym.degree()\n",
    "\n",
    "Method ni untuk retrieve degree\n",
    "\n",
    "### sym.as_expr()\n",
    "\n",
    "Method ni untuk retrieve existing formula"
   ]
  },
  {
   "cell_type": "code",
   "execution_count": 17,
   "metadata": {},
   "outputs": [
    {
     "name": "stdout",
     "output_type": "stream",
     "text": [
      "The degree of x**2 + 2*x is even, and the coefficient sum to 3.\n",
      "The degree of -x**3 + 4*x is odd, and there are 2 coefficients.\n",
      "The degree of x**5 - x**4 + x/8 is odd, and there are 3 coefficients.\n"
     ]
    }
   ],
   "source": [
    "import sympy as sym\n",
    "from sympy.abc import x\n",
    "from IPython.display import display, Math\n",
    "\n",
    "\n",
    "polys = [ sym.Poly(2*x + x**2), sym.Poly(-x**3 + 4*x), sym.Poly(x**5 - x**4 + x/(4 + 4)) ]\n",
    "\n",
    "for poli in polys:\n",
    "    if poli.degree() %2 == 0:\n",
    "        print('The degree of %s is even, and the coefficient sum to %g.' %(poli.as_expr(),sum(poli.coeffs())))\n",
    "    \n",
    "    else:\n",
    "              \n",
    "        print('The degree of %s is odd, and there are %g coefficients.' %(poli.as_expr(),len(poli.coeffs())))"
   ]
  },
  {
   "cell_type": "markdown",
   "metadata": {},
   "source": [
    "# 43. Multiplying polynomials\n",
    "In this tutorial, I will learn:\n",
    "- How to multiply polynomials.\n",
    "- More about working with polynomials in Python and sympy"
   ]
  },
  {
   "cell_type": "code",
   "execution_count": 1,
   "metadata": {},
   "outputs": [
    {
     "data": {
      "text/latex": [
       "$\\displaystyle x^{8}$"
      ],
      "text/plain": [
       "x**8"
      ]
     },
     "execution_count": 1,
     "metadata": {},
     "output_type": "execute_result"
    }
   ],
   "source": [
    "import sympy as sym\n",
    "from IPython.display import display, Math\n",
    "\n",
    "\n",
    "x = sym.symbols('x')\n",
    "\n",
    "x**5 * x**3"
   ]
  },
  {
   "cell_type": "code",
   "execution_count": 6,
   "metadata": {},
   "outputs": [
    {
     "data": {
      "text/latex": [
       "$\\displaystyle \\left(4 x^{2} - 2 x\\right) \\left(x^{3} - 1\\right)$"
      ],
      "text/plain": [
       "<IPython.core.display.Math object>"
      ]
     },
     "metadata": {},
     "output_type": "display_data"
    },
    {
     "data": {
      "text/latex": [
       "$\\displaystyle 4 x^{5} - 2 x^{4} - 4 x^{2} + 2 x$"
      ],
      "text/plain": [
       "<IPython.core.display.Math object>"
      ]
     },
     "metadata": {},
     "output_type": "display_data"
    }
   ],
   "source": [
    "p1 = 4*x**2 - 2*x\n",
    "p2 = x**3 - 1\n",
    "\n",
    "display(Math(sym.latex((p1*p2))))\n",
    "display(Math(sym.latex(sym.expand(p1*p2))))"
   ]
  },
  {
   "cell_type": "markdown",
   "metadata": {},
   "source": [
    "## Coefficient\n",
    "\n",
    "Kat sini kita dah boleh nampak contoh kat atas ni, coeff dia 4,-2,-4,2,0"
   ]
  },
  {
   "cell_type": "markdown",
   "metadata": {},
   "source": [
    "## Exersice\n",
    "Implement these polynomial\n",
    "1. Multiply the polynomials and the subtitute x=5, y =-2\n",
    "2. Subtitute x=5,y=-2 into each polynomial, then multiply\n",
    "\n",
    "$f(x,y) = 4x^4 - 3x^2 + xy^2 - 9y^3$\n",
    "\n",
    "$g(x,y) = x^3 - 6x^2y + .8y^3$"
   ]
  },
  {
   "cell_type": "code",
   "execution_count": 89,
   "metadata": {},
   "outputs": [
    {
     "name": "stdout",
     "output_type": "stream",
     "text": [
      "1053616.20000000\n"
     ]
    }
   ],
   "source": [
    "import numpy as np\n",
    "import sympy as sym\n",
    "from IPython.display import display, Math\n",
    "from sympy.abc import x,y\n",
    "\n",
    "fxy = 4*x**4 - 3*x**2 + x*y**2 - 9*y**3\n",
    "gxy = x**3 - 6*x**2*y + 0.8*y**3\n",
    "\n",
    "x1 = 5\n",
    "y1 = -2\n",
    "\n",
    "mul_ans = fxy*gxy\n",
    "print(mul_ans.subs({x:x1,y:y1}))\n",
    "\n",
    "# display(Math(sym.latex(mul_ans)))"
   ]
  },
  {
   "cell_type": "code",
   "execution_count": null,
   "metadata": {},
   "outputs": [],
   "source": []
  },
  {
   "cell_type": "code",
   "execution_count": null,
   "metadata": {},
   "outputs": [],
   "source": []
  },
  {
   "cell_type": "code",
   "execution_count": 57,
   "metadata": {},
   "outputs": [
    {
     "name": "stdout",
     "output_type": "stream",
     "text": [
      "4\n",
      "[4, -3, 1, -9]\n",
      "Poly(-9*y**3 + 3*y**2 + 297, y, domain='ZZ')\n"
     ]
    }
   ],
   "source": [
    "import numpy as np\n",
    "import sympy as sym\n",
    "from IPython.display import display, Math\n",
    "from sympy.abc import x,y\n",
    "\n",
    "x1 = 7\n",
    "y1 = -2\n",
    "\n",
    "formula = 4*x**4 - 3*x**2 + x*y**2 - 9*y**3\n",
    "formula.subs({x:x1,y:y1})\n",
    "\n",
    "# declare\n",
    "poli_for = sym.Poly(formula)\n",
    "\n",
    "# identify the degree of the equation\n",
    "print(poli_for.degree())\n",
    "\n",
    "# identify the coeffs of the equation\n",
    "print(poli_for.coeffs())\n",
    "\n",
    "# identify \n",
    "print(poli_for.eval(3))"
   ]
  },
  {
   "cell_type": "code",
   "execution_count": null,
   "metadata": {},
   "outputs": [],
   "source": []
  },
  {
   "cell_type": "code",
   "execution_count": null,
   "metadata": {},
   "outputs": [],
   "source": []
  },
  {
   "cell_type": "code",
   "execution_count": null,
   "metadata": {},
   "outputs": [],
   "source": []
  },
  {
   "cell_type": "code",
   "execution_count": null,
   "metadata": {},
   "outputs": [],
   "source": []
  },
  {
   "cell_type": "code",
   "execution_count": null,
   "metadata": {},
   "outputs": [],
   "source": []
  },
  {
   "cell_type": "code",
   "execution_count": null,
   "metadata": {},
   "outputs": [],
   "source": []
  },
  {
   "cell_type": "code",
   "execution_count": null,
   "metadata": {},
   "outputs": [],
   "source": []
  },
  {
   "cell_type": "code",
   "execution_count": null,
   "metadata": {},
   "outputs": [],
   "source": []
  },
  {
   "cell_type": "code",
   "execution_count": null,
   "metadata": {},
   "outputs": [],
   "source": []
  },
  {
   "cell_type": "code",
   "execution_count": null,
   "metadata": {},
   "outputs": [],
   "source": []
  },
  {
   "cell_type": "code",
   "execution_count": null,
   "metadata": {},
   "outputs": [],
   "source": []
  },
  {
   "cell_type": "code",
   "execution_count": null,
   "metadata": {},
   "outputs": [],
   "source": []
  },
  {
   "cell_type": "code",
   "execution_count": null,
   "metadata": {},
   "outputs": [],
   "source": []
  },
  {
   "cell_type": "code",
   "execution_count": null,
   "metadata": {},
   "outputs": [],
   "source": []
  },
  {
   "cell_type": "code",
   "execution_count": null,
   "metadata": {},
   "outputs": [],
   "source": []
  },
  {
   "cell_type": "code",
   "execution_count": null,
   "metadata": {},
   "outputs": [],
   "source": []
  },
  {
   "cell_type": "code",
   "execution_count": null,
   "metadata": {},
   "outputs": [],
   "source": []
  },
  {
   "cell_type": "code",
   "execution_count": null,
   "metadata": {},
   "outputs": [],
   "source": []
  },
  {
   "cell_type": "code",
   "execution_count": null,
   "metadata": {},
   "outputs": [],
   "source": []
  },
  {
   "cell_type": "code",
   "execution_count": null,
   "metadata": {},
   "outputs": [],
   "source": []
  },
  {
   "cell_type": "code",
   "execution_count": null,
   "metadata": {},
   "outputs": [],
   "source": []
  },
  {
   "cell_type": "code",
   "execution_count": null,
   "metadata": {},
   "outputs": [],
   "source": []
  },
  {
   "cell_type": "code",
   "execution_count": null,
   "metadata": {},
   "outputs": [],
   "source": []
  },
  {
   "cell_type": "code",
   "execution_count": null,
   "metadata": {},
   "outputs": [],
   "source": []
  },
  {
   "cell_type": "code",
   "execution_count": null,
   "metadata": {},
   "outputs": [],
   "source": []
  },
  {
   "cell_type": "code",
   "execution_count": null,
   "metadata": {},
   "outputs": [],
   "source": []
  }
 ],
 "metadata": {
  "kernelspec": {
   "display_name": "Python 3",
   "language": "python",
   "name": "python3"
  },
  "language_info": {
   "codemirror_mode": {
    "name": "ipython",
    "version": 3
   },
   "file_extension": ".py",
   "mimetype": "text/x-python",
   "name": "python",
   "nbconvert_exporter": "python",
   "pygments_lexer": "ipython3",
   "version": "3.7.4"
  }
 },
 "nbformat": 4,
 "nbformat_minor": 2
}
