{
 "cells": [
  {
   "cell_type": "markdown",
   "metadata": {},
   "source": [
    "# 61. Summation and products\n",
    "In this tutorial, I will learn\n",
    "- Have a reminder about lists in Python\n",
    "- Learn how to compute sums and products\n",
    "- Leanr what a cummulative sum means\n",
    "\n",
    "## Summation = $\\Sigma$\n",
    "Benda ni yang aku pernah belajar dalam buku mathematic tingkatan 6\n",
    "\n",
    "## Product = $\\Pi$\n",
    "Yang ni plak aku baru pernah nampak, lebih kurang function dia dengan $\\Sigma$ cuma dia darab, bukan summation\n",
    "\n",
    "## Cumulative Sum = 𝑦𝑘=∑𝑘𝑖=1𝑥𝑖\n",
    "Yang ni dia mcm nested loop. i dengan j."
   ]
  },
  {
   "cell_type": "code",
   "execution_count": 9,
   "metadata": {
    "scrolled": true
   },
   "outputs": [
    {
     "name": "stdout",
     "output_type": "stream",
     "text": [
      "15\n",
      "72\n",
      "[ 1  4  8  9 15]\n"
     ]
    }
   ],
   "source": [
    "import numpy as np\n",
    "import sympy as sp\n",
    "import matplotlib.pyplot as plt\n",
    "\n",
    "\n",
    "lst = [1,3,4,1,6]\n",
    "\n",
    "# ni cara nak solve summation guna numpy\n",
    "summation = np.sum(lst)\n",
    "\n",
    "# ni plak cara nak solve product\n",
    "product = np.prod(lst)\n",
    "\n",
    "# ni plak cummulative summation, yang mcm nested loop aku cakap tu\n",
    "cum_sum = np.cumsum(lst)\n",
    "\n",
    "print(summation)\n",
    "print(product)\n",
    "print(cum_sum)"
   ]
  },
  {
   "cell_type": "code",
   "execution_count": 26,
   "metadata": {},
   "outputs": [
    {
     "data": {
      "image/png": "[encoded data removed]",
      "text/plain": [
       "<Figure size 432x288 with 1 Axes>"
      ]
     },
     "metadata": {
      "needs_background": "light"
     },
     "output_type": "display_data"
    }
   ],
   "source": [
    "import matplotlib.pyplot as plt\n",
    "\n",
    "# dalam list dia ada index dengan value\n",
    "# lebih kurang mcm dict\n",
    "# sbb tu kalau nak buat plot, kalau dah ada list atau dict\n",
    "# tak perlu nak pikir x dengan y\n",
    "# sbb x dia index and y dia value\n",
    "plt.plot(lst, 'rs-')\n",
    "plt.plot(cum_sum, 'bo-')\n",
    "\n",
    "plt.legend(['set', 'cumsum'])\n",
    "\n",
    "plt.show()"
   ]
  },
  {
   "cell_type": "code",
   "execution_count": 47,
   "metadata": {},
   "outputs": [
    {
     "data": {
      "text/latex": [
       "$\\displaystyle \\text{Option 1} = 0.2727272727272727 \\quad \\text{Option 2} = 0.06666666666666667$"
      ],
      "text/plain": [
       "<IPython.core.display.Math object>"
      ]
     },
     "metadata": {},
     "output_type": "display_data"
    },
    {
     "data": {
      "text/latex": [
       "$\\displaystyle \\text{Option 1} = 0.008333333333333333 \\quad \\text{Option 2} = 0.008333333333333333$"
      ],
      "text/plain": [
       "<IPython.core.display.Math object>"
      ]
     },
     "metadata": {},
     "output_type": "display_data"
    }
   ],
   "source": [
    "import numpy as np\n",
    "import sympy as sp\n",
    "import matplotlib.pyplot as plt\n",
    "from IPython.display import display, Math\n",
    "\n",
    "a = np.arange(1,6)\n",
    "\n",
    "suma = np.sum(a)\n",
    "suma2 = np.sum(a**2)\n",
    "\n",
    "sum_ans1 = suma/suma2\n",
    "sum_ans2 = 1 / suma\n",
    "\n",
    "proda = np.prod(a)\n",
    "proda2 = np.prod(a**2)\n",
    "\n",
    "prod_ans1 = proda/proda2\n",
    "prod_ans2 = 1 / proda\n",
    "\n",
    "display(Math(sym.latex('\\\\text{Option 1} = %s \\\\quad \\\\text{Option 2} = %s' %(sum_ans1,sum_ans2))))\n",
    "display(Math(sym.latex('\\\\text{Option 1} = %s \\\\quad \\\\text{Option 2} = %s' %(prod_ans1,prod_ans2))))"
   ]
  },
  {
   "cell_type": "markdown",
   "metadata": {},
   "source": [
    "ada sample kat dalam video explain kenapa product dia punya answer sama"
   ]
  },
  {
   "cell_type": "markdown",
   "metadata": {},
   "source": [
    "# 62. Differences (discrete derivative)\n",
    "In this tutorial, I will learn\n",
    "- About the dicrete difference operator.\n",
    "- A gentle intoduction to derivatives (important calculus topic)\n",
    "\n",
    "Topic ni important untuk time series"
   ]
  },
  {
   "cell_type": "code",
   "execution_count": 50,
   "metadata": {},
   "outputs": [
    {
     "data": {
      "text/plain": [
       "array([ 2,  1, -8])"
      ]
     },
     "execution_count": 50,
     "metadata": {},
     "output_type": "execute_result"
    }
   ],
   "source": [
    "import numpy as np\n",
    "\n",
    "\n",
    "x = [1,3,4,-4]\n",
    "\n",
    "np.diff(x)"
   ]
  },
  {
   "cell_type": "code",
   "execution_count": 54,
   "metadata": {},
   "outputs": [
    {
     "name": "stdout",
     "output_type": "stream",
     "text": [
      "[1 1 1 1 1 1 1 1 1]\n",
      "[0 0 0 0 0 0 0 0]\n",
      "[0 0 0 0 0 0 0 0]\n"
     ]
    }
   ],
   "source": [
    "# np.diff ni sama mcm diffrential untuk arithmatic and ratio untuk geometry\n",
    "\n",
    "v = np.arange(0,10)\n",
    "print(np.diff(v))\n",
    "# ni sa\n",
    "print(np.diff(v,2))\n",
    "print(np.diff(np.diff(v)))"
   ]
  },
  {
   "cell_type": "code",
   "execution_count": 56,
   "metadata": {},
   "outputs": [
    {
     "data": {
      "image/png": "[encoded data removed]",
      "text/plain": [
       "<Figure size 432x288 with 1 Axes>"
      ]
     },
     "metadata": {
      "needs_background": "light"
     },
     "output_type": "display_data"
    }
   ],
   "source": [
    "import matplotlib.pyplot as plt\n",
    "import numpy as np\n",
    "import sympy as sp\n",
    "\n",
    "x = np.arange(-2,2)\n",
    "y = x**2\n",
    "\n",
    "plt.plot(y, 'b-')\n",
    "plt.show()\n"
   ]
  },
  {
   "cell_type": "code",
   "execution_count": null,
   "metadata": {},
   "outputs": [],
   "source": []
  },
  {
   "cell_type": "code",
   "execution_count": null,
   "metadata": {},
   "outputs": [],
   "source": []
  },
  {
   "cell_type": "code",
   "execution_count": null,
   "metadata": {},
   "outputs": [],
   "source": []
  },
  {
   "cell_type": "code",
   "execution_count": null,
   "metadata": {},
   "outputs": [],
   "source": []
  },
  {
   "cell_type": "code",
   "execution_count": null,
   "metadata": {},
   "outputs": [],
   "source": []
  },
  {
   "cell_type": "code",
   "execution_count": null,
   "metadata": {},
   "outputs": [],
   "source": []
  },
  {
   "cell_type": "code",
   "execution_count": null,
   "metadata": {},
   "outputs": [],
   "source": []
  },
  {
   "cell_type": "code",
   "execution_count": null,
   "metadata": {},
   "outputs": [],
   "source": []
  },
  {
   "cell_type": "code",
   "execution_count": null,
   "metadata": {},
   "outputs": [],
   "source": []
  },
  {
   "cell_type": "code",
   "execution_count": null,
   "metadata": {},
   "outputs": [],
   "source": []
  },
  {
   "cell_type": "code",
   "execution_count": null,
   "metadata": {},
   "outputs": [],
   "source": []
  }
 ],
 "metadata": {
  "kernelspec": {
   "display_name": "Python 3",
   "language": "python",
   "name": "python3"
  },
  "language_info": {
   "codemirror_mode": {
    "name": "ipython",
    "version": 3
   },
   "file_extension": ".py",
   "mimetype": "text/x-python",
   "name": "python",
   "nbconvert_exporter": "python",
   "pygments_lexer": "ipython3",
   "version": "3.7.4"
  }
 },
 "nbformat": 4,
 "nbformat_minor": 2
}
