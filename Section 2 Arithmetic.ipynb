{
 "cells": [
  {
   "cell_type": "markdown",
   "metadata": {},
   "source": [
    "# Section 2: Arithmetic\n",
    "## 11. Exponent"
   ]
  },
  {
   "cell_type": "code",
   "execution_count": 2,
   "metadata": {},
   "outputs": [
    {
     "data": {
      "text/latex": [
       "$\\displaystyle 1 + 2 = 3$"
      ],
      "text/plain": [
       "<IPython.core.display.Math object>"
      ]
     },
     "metadata": {},
     "output_type": "display_data"
    }
   ],
   "source": [
    "from IPython.display import display,Math\n",
    "\n",
    "display(Math('1 + 2 = 3'))"
   ]
  },
  {
   "cell_type": "code",
   "execution_count": 3,
   "metadata": {},
   "outputs": [
    {
     "data": {
      "text/latex": [
       "$\\displaystyle 3^3 \\times 3^4$"
      ],
      "text/plain": [
       "<IPython.core.display.Math object>"
      ]
     },
     "metadata": {},
     "output_type": "display_data"
    }
   ],
   "source": [
    "display(Math( '3^3 \\\\times 3^4' ))"
   ]
  },
  {
   "cell_type": "code",
   "execution_count": 4,
   "metadata": {},
   "outputs": [
    {
     "data": {
      "text/latex": [
       "$\\displaystyle x^{3/4} \\times 4^{y} = 3933.09$"
      ],
      "text/plain": [
       "<IPython.core.display.Math object>"
      ]
     },
     "metadata": {},
     "output_type": "display_data"
    }
   ],
   "source": [
    "x = 5\n",
    "y = 5.1\n",
    "\n",
    "display(Math( 'x^{3/4} \\\\times 4^{y} = 3933.09' ))"
   ]
  },
  {
   "cell_type": "code",
   "execution_count": 5,
   "metadata": {},
   "outputs": [
    {
     "data": {
      "text/latex": [
       "$\\displaystyle \\frac{3^3 }{x^{y}} = 0.0073558$"
      ],
      "text/plain": [
       "<IPython.core.display.Math object>"
      ]
     },
     "metadata": {},
     "output_type": "display_data"
    }
   ],
   "source": [
    "display(Math( '\\\\frac{3^3 }{x^{y}} = 0.0073558' ))"
   ]
  },
  {
   "cell_type": "code",
   "execution_count": 6,
   "metadata": {},
   "outputs": [
    {
     "data": {
      "text/latex": [
       "$\\displaystyle 10^{x-4} = 10$"
      ],
      "text/plain": [
       "<IPython.core.display.Math object>"
      ]
     },
     "metadata": {},
     "output_type": "display_data"
    }
   ],
   "source": [
    "display(Math( '10^{x-4} = 10' ))"
   ]
  },
  {
   "cell_type": "markdown",
   "metadata": {},
   "source": [
    "## 12. For Loops & Powers"
   ]
  },
  {
   "cell_type": "code",
   "execution_count": 17,
   "metadata": {},
   "outputs": [
    {
     "name": "stdout",
     "output_type": "stream",
     "text": [
      "0\n",
      "1\n",
      "2\n",
      "3\n"
     ]
    }
   ],
   "source": [
    "for i in [0,1,2,3]:\n",
    "    print(i)"
   ]
  },
  {
   "cell_type": "code",
   "execution_count": 18,
   "metadata": {},
   "outputs": [
    {
     "data": {
      "text/plain": [
       "[0, 1, 2]"
      ]
     },
     "execution_count": 18,
     "metadata": {},
     "output_type": "execute_result"
    }
   ],
   "source": [
    "list(range(0,3))"
   ]
  },
  {
   "cell_type": "code",
   "execution_count": 20,
   "metadata": {},
   "outputs": [
    {
     "name": "stdout",
     "output_type": "stream",
     "text": [
      "This is the 0th iteration\n",
      "This is the 1th iteration\n",
      "This is the 2th iteration\n",
      "This is the 3th iteration\n",
      "This is the 4th iteration\n",
      "This is the 5th iteration\n"
     ]
    }
   ],
   "source": [
    "for qwerty in range(0,6):\n",
    "    print('This is the %gth iteration' %qwerty)"
   ]
  },
  {
   "cell_type": "code",
   "execution_count": 23,
   "metadata": {},
   "outputs": [
    {
     "name": "stdout",
     "output_type": "stream",
     "text": [
      "0\n",
      "1\n",
      "4\n",
      "9\n",
      "16\n"
     ]
    }
   ],
   "source": [
    "for t in range(0,5):\n",
    "    num = t**2\n",
    "    print(num)"
   ]
  },
  {
   "cell_type": "code",
   "execution_count": 30,
   "metadata": {},
   "outputs": [
    {
     "name": "stdout",
     "output_type": "stream",
     "text": [
      "2 to the power of 0 is 1\n",
      "2 to the power of 1 is 2\n",
      "2 to the power of 2 is 4\n",
      "2 to the power of 3 is 8\n",
      "2 to the power of 4 is 16\n",
      "2 to the power of 5 is 32\n",
      "2 to the power of 6 is 64\n",
      "2 to the power of 7 is 128\n",
      "2 to the power of 8 is 256\n",
      "2 to the power of 9 is 512\n"
     ]
    }
   ],
   "source": [
    "for t in range(0,10):\n",
    "    num = 2**((t+1)-1)\n",
    "    print('2 to the power of %g is %g' %(t,num))"
   ]
  },
  {
   "cell_type": "code",
   "execution_count": 33,
   "metadata": {},
   "outputs": [
    {
     "name": "stdout",
     "output_type": "stream",
     "text": [
      "32 to the power of 0 is 1\n",
      "32 to the power of 1 is 32\n",
      "32 to the power of 2 is 1024\n",
      "32 to the power of 3 is 32768\n",
      "32 to the power of 4 is 1.04858e+06\n",
      "32 to the power of 5 is 3.35544e+07\n",
      "32 to the power of 6 is 1.07374e+09\n",
      "32 to the power of 7 is 3.43597e+10\n",
      "32 to the power of 8 is 1.09951e+12\n",
      "32 to the power of 9 is 3.51844e+13\n"
     ]
    }
   ],
   "source": [
    "base = 32\n",
    "\n",
    "for i in range(0,10):\n",
    "    print('%g to the power of %g is %g' %(base,i,base**i))"
   ]
  },
  {
   "cell_type": "markdown",
   "metadata": {},
   "source": [
    "## 13. Order Of Operations\n",
    "PEMDAS. Parenthesis, Exponent, Multiply, Divide, Additional and Subtraction"
   ]
  },
  {
   "cell_type": "markdown",
   "metadata": {},
   "source": [
    "## 14. Testing Inequalities & Boolean Data Type\n",
    "\n",
    "In this chapter Mike will explain about how boolean works. 1 equal to TRUE and 0 equal to FALSE"
   ]
  },
  {
   "cell_type": "code",
   "execution_count": 34,
   "metadata": {},
   "outputs": [
    {
     "data": {
      "text/plain": [
       "False"
      ]
     },
     "execution_count": 34,
     "metadata": {},
     "output_type": "execute_result"
    }
   ],
   "source": [
    "4 > 5"
   ]
  },
  {
   "cell_type": "code",
   "execution_count": 39,
   "metadata": {},
   "outputs": [
    {
     "name": "stdout",
     "output_type": "stream",
     "text": [
      "<class 'bool'>\n",
      "True\n"
     ]
    }
   ],
   "source": [
    "b = 10 > 3*3\n",
    "print(type(b))\n",
    "print(b)"
   ]
  },
  {
   "cell_type": "code",
   "execution_count": 46,
   "metadata": {},
   "outputs": [
    {
     "name": "stdout",
     "output_type": "stream",
     "text": [
      "False\n",
      "True\n"
     ]
    }
   ],
   "source": [
    "x = 2\n",
    "x = 3\n",
    "x = 4\n",
    "\n",
    "#1\n",
    "print( 4*x + 3 < 17 - x**2 )\n",
    "\n",
    "#2\n",
    "print( 8*x - 2 <= 3*x + 42 )"
   ]
  },
  {
   "cell_type": "markdown",
   "metadata": {},
   "source": [
    "## 15. Using if-statement & logical operators\n"
   ]
  },
  {
   "cell_type": "code",
   "execution_count": 48,
   "metadata": {},
   "outputs": [
    {
     "name": "stdout",
     "output_type": "stream",
     "text": [
      "False\n"
     ]
    }
   ],
   "source": [
    "if 4 + 2 == 9:\n",
    "    print('True')\n",
    "else:\n",
    "    print('False')"
   ]
  },
  {
   "cell_type": "code",
   "execution_count": 55,
   "metadata": {},
   "outputs": [
    {
     "name": "stdout",
     "output_type": "stream",
     "text": [
      "4 is greater than 1\n"
     ]
    }
   ],
   "source": [
    "x1 = 1\n",
    "x2 = 4\n",
    "\n",
    "if x1 > x2:\n",
    "    print('%g is greater than %g' %(x1,x2))\n",
    "elif x1 < x2:\n",
    "    print('%g is greater than %g' %(x2,x1))"
   ]
  },
  {
   "cell_type": "code",
   "execution_count": 77,
   "metadata": {},
   "outputs": [
    {
     "data": {
      "text/latex": [
       "$\\displaystyle 1^{-1} = 1.0$"
      ],
      "text/plain": [
       "<IPython.core.display.Math object>"
      ]
     },
     "metadata": {},
     "output_type": "display_data"
    },
    {
     "data": {
      "text/latex": [
       "$\\displaystyle 1^{-2} = 1.0$"
      ],
      "text/plain": [
       "<IPython.core.display.Math object>"
      ]
     },
     "metadata": {},
     "output_type": "display_data"
    },
    {
     "data": {
      "text/latex": [
       "$\\displaystyle 1^{-3} = 1.0$"
      ],
      "text/plain": [
       "<IPython.core.display.Math object>"
      ]
     },
     "metadata": {},
     "output_type": "display_data"
    },
    {
     "data": {
      "text/latex": [
       "$\\displaystyle 1^{-4} = 1.0$"
      ],
      "text/plain": [
       "<IPython.core.display.Math object>"
      ]
     },
     "metadata": {},
     "output_type": "display_data"
    },
    {
     "data": {
      "text/latex": [
       "$\\displaystyle 2^{-1} = 0.5$"
      ],
      "text/plain": [
       "<IPython.core.display.Math object>"
      ]
     },
     "metadata": {},
     "output_type": "display_data"
    },
    {
     "data": {
      "text/latex": [
       "$\\displaystyle 2^{-2} = 0.25$"
      ],
      "text/plain": [
       "<IPython.core.display.Math object>"
      ]
     },
     "metadata": {},
     "output_type": "display_data"
    },
    {
     "data": {
      "text/latex": [
       "$\\displaystyle 2^{-3} = 0.125$"
      ],
      "text/plain": [
       "<IPython.core.display.Math object>"
      ]
     },
     "metadata": {},
     "output_type": "display_data"
    },
    {
     "data": {
      "text/latex": [
       "$\\displaystyle 2^{-4} = 0.0625$"
      ],
      "text/plain": [
       "<IPython.core.display.Math object>"
      ]
     },
     "metadata": {},
     "output_type": "display_data"
    },
    {
     "data": {
      "text/latex": [
       "$\\displaystyle 3^{-1} = 0.3333333333333333$"
      ],
      "text/plain": [
       "<IPython.core.display.Math object>"
      ]
     },
     "metadata": {},
     "output_type": "display_data"
    },
    {
     "data": {
      "text/latex": [
       "$\\displaystyle 3^{-2} = 0.1111111111111111$"
      ],
      "text/plain": [
       "<IPython.core.display.Math object>"
      ]
     },
     "metadata": {},
     "output_type": "display_data"
    },
    {
     "data": {
      "text/latex": [
       "$\\displaystyle 3^{-3} = 0.037037037037037035$"
      ],
      "text/plain": [
       "<IPython.core.display.Math object>"
      ]
     },
     "metadata": {},
     "output_type": "display_data"
    },
    {
     "data": {
      "text/latex": [
       "$\\displaystyle 3^{-4} = 0.012345679012345678$"
      ],
      "text/plain": [
       "<IPython.core.display.Math object>"
      ]
     },
     "metadata": {},
     "output_type": "display_data"
    }
   ],
   "source": [
    "from IPython.display import display, Math\n",
    "\n",
    "for i in range(0,4):\n",
    "        for j in range(0,5):\n",
    "            if i > 0 and j > 0:\n",
    "                ans = i**(-j)\n",
    "                display(Math('%s^{-%s} = %s' %(i,j,ans)))"
   ]
  },
  {
   "cell_type": "markdown",
   "metadata": {},
   "source": [
    "Ahmad Hazim, the above script you made by yourself, you should proud of your skill."
   ]
  },
  {
   "cell_type": "markdown",
   "metadata": {},
   "source": [
    "## 16. Absolute Value\n",
    "Maksud absolute value ni value away from 0 point. Sbb dulu aku ingat abs() ni no tu kene buang negative"
   ]
  },
  {
   "cell_type": "code",
   "execution_count": 79,
   "metadata": {},
   "outputs": [
    {
     "data": {
      "text/plain": [
       "(-4, 4)"
      ]
     },
     "execution_count": 79,
     "metadata": {},
     "output_type": "execute_result"
    }
   ],
   "source": [
    "a = -4\n",
    "b = abs(a)\n",
    "a,b"
   ]
  },
  {
   "cell_type": "code",
   "execution_count": 81,
   "metadata": {},
   "outputs": [
    {
     "data": {
      "text/latex": [
       "$\\displaystyle |-4.3| = 4.3$"
      ],
      "text/plain": [
       "<IPython.core.display.Math object>"
      ]
     },
     "metadata": {},
     "output_type": "display_data"
    }
   ],
   "source": [
    "from IPython.display import display, Math\n",
    "\n",
    "x = -4.3\n",
    "\n",
    "display(Math('|%g| = %g' %(x, abs(x))))"
   ]
  },
  {
   "cell_type": "markdown",
   "metadata": {},
   "source": [
    "## Exersice\n",
    "Print the absolute value of each of a set of numbers only if each number is <-5 or >2\n",
    "\n",
    "#### Number set:\n",
    "-4, 6, -1, 43, -18, 2, 0\n",
    "\n",
    "#### Output\n",
    "-4 was not tested.\n",
    "Absolute value of 6 is 6"
   ]
  },
  {
   "cell_type": "code",
   "execution_count": 7,
   "metadata": {},
   "outputs": [
    {
     "name": "stdout",
     "output_type": "stream",
     "text": [
      "-4 was not tested\n",
      "Absolute value of 6 is 6.\n",
      "-1 was not tested\n",
      "Absolute value of 43 is 43.\n",
      "Absolute value of -18 is 18.\n",
      "2 was not tested\n",
      "0 was not tested\n"
     ]
    }
   ],
   "source": [
    "num_list = [-4, 6, -1, 43, -18, 2, 0]\n",
    "\n",
    "for i in num_list:\n",
    "    if i < -5 or i > 2:\n",
    "        print('Absolute value of %g is %g.' %(i, abs(i)))\n",
    "    else:\n",
    "        print('%g was not tested' %(i))"
   ]
  },
  {
   "cell_type": "markdown",
   "metadata": {},
   "source": [
    "Ahmad Hazim, the above script you made by yourself, you should proud of your skill."
   ]
  },
  {
   "cell_type": "markdown",
   "metadata": {},
   "source": [
    "## 17. Remainder after division\n",
    "Learn how to use the modulo"
   ]
  },
  {
   "cell_type": "code",
   "execution_count": 9,
   "metadata": {},
   "outputs": [
    {
     "data": {
      "text/plain": [
       "3"
      ]
     },
     "execution_count": 9,
     "metadata": {},
     "output_type": "execute_result"
    }
   ],
   "source": [
    "a = 10\n",
    "b = 3\n",
    "\n",
    "int(a/b)"
   ]
  },
  {
   "cell_type": "code",
   "execution_count": 11,
   "metadata": {},
   "outputs": [
    {
     "data": {
      "text/plain": [
       "1"
      ]
     },
     "execution_count": 11,
     "metadata": {},
     "output_type": "execute_result"
    }
   ],
   "source": [
    "a % b"
   ]
  },
  {
   "cell_type": "code",
   "execution_count": 13,
   "metadata": {},
   "outputs": [
    {
     "name": "stdout",
     "output_type": "stream",
     "text": [
      "1.74618e+12 goes into 1.13456e+13, 6 times with a remainder of 8.68536e+11.\n"
     ]
    }
   ],
   "source": [
    "a = 11345626243612\n",
    "b = 1746181682002\n",
    "\n",
    "divis = int(a/b)\n",
    "remainder = a%b\n",
    "\n",
    "print('%g goes into %g, %g times with a remainder of %g.' %(b,a,divis,remainder))"
   ]
  },
  {
   "cell_type": "code",
   "execution_count": 27,
   "metadata": {},
   "outputs": [
    {
     "name": "stdout",
     "output_type": "stream",
     "text": [
      "-5 is an odd number\n",
      "-4 is an even number\n",
      "-3 is an odd number\n",
      "-2 is an even number\n",
      "-1 is an odd number\n",
      " 0 is an even number\n",
      " 1 is an odd number\n",
      " 2 is an even number\n",
      " 3 is an odd number\n",
      " 4 is an even number\n",
      " 5 is an odd number\n"
     ]
    }
   ],
   "source": [
    "num = list(range(-5,6))\n",
    "\n",
    "for i in num:\n",
    "    if i % 2 == 0:\n",
    "        if i == abs(i):\n",
    "            print(' ' + str(i) + ' is an even number')\n",
    "        else:\n",
    "            print(str(i) + ' is an even number')\n",
    "    else:\n",
    "        if i == abs(i):\n",
    "            print(' ' + str(i) + ' is an odd number')\n",
    "        else:\n",
    "            print(str(i) + ' is an odd number')"
   ]
  },
  {
   "cell_type": "markdown",
   "metadata": {},
   "source": [
    "Ahmad Hazim, the above script you made by yourself, you should proud of your skill."
   ]
  },
  {
   "cell_type": "markdown",
   "metadata": {},
   "source": [
    "## 18. Create interactive math functions : Part 1"
   ]
  },
  {
   "cell_type": "code",
   "execution_count": 49,
   "metadata": {},
   "outputs": [],
   "source": [
    "def computeremainder(x, y):\n",
    "    divis = int(x/y)\n",
    "    remainder = x % y\n",
    "    \n",
    "    return '%g goes to %g, %g times with a remainder of %g' %(y,x,divis, remainder)\n",
    "    "
   ]
  },
  {
   "cell_type": "code",
   "execution_count": 51,
   "metadata": {},
   "outputs": [
    {
     "name": "stdout",
     "output_type": "stream",
     "text": [
      "6 goes to 5, 0 times with a remainder of 5\n"
     ]
    }
   ],
   "source": [
    "print(computeremainder(5,6))"
   ]
  },
  {
   "cell_type": "markdown",
   "metadata": {},
   "source": [
    "## 19. Create interactive math functions : Part 2"
   ]
  },
  {
   "cell_type": "markdown",
   "metadata": {},
   "source": [
    "First attempt"
   ]
  },
  {
   "cell_type": "code",
   "execution_count": 1,
   "metadata": {},
   "outputs": [
    {
     "name": "stdout",
     "output_type": "stream",
     "text": [
      "Welcome to this program!\n",
      "Please insert X value: 1\n",
      "Please insert Y value: 2\n"
     ]
    },
    {
     "data": {
      "text/latex": [
       "$\\displaystyle Press \"1\" to compute \\frac{1}{2} or \"2\" to compute 1^{2}$"
      ],
      "text/plain": [
       "<IPython.core.display.Math object>"
      ]
     },
     "metadata": {},
     "output_type": "display_data"
    },
    {
     "name": "stdout",
     "output_type": "stream",
     "text": [
      "2\n"
     ]
    },
    {
     "data": {
      "text/latex": [
       "$\\displaystyle \\frac{1}{2} = 0.5$"
      ],
      "text/plain": [
       "<IPython.core.display.Math object>"
      ]
     },
     "metadata": {},
     "output_type": "display_data"
    }
   ],
   "source": [
    "from IPython.display import display, Math\n",
    "\n",
    "def selection(x, y, selected):\n",
    "    \n",
    "    if selected == 1:\n",
    "        ans = x**y\n",
    "        display(Math( '%g^%g = %g' %(x,y,ans) ))\n",
    "    elif selected == 2:\n",
    "        ans = x/y\n",
    "        display(Math( '\\\\frac{%g}{%g} = %g' %(x, y, ans) ))\n",
    "\n",
    "def initial():    \n",
    "    print('Welcome to this program!')\n",
    "    x = int(input('Please insert X value: '))\n",
    "    y = int(input('Please insert Y value: '))\n",
    "    display(Math('Press \"1\" to compute \\\\frac{%g}{%g} or \"2\" to compute %g^{%g}' %(x,y,x,y)))\n",
    "          \n",
    "    try:\n",
    "        selected = int(input())\n",
    "        if selected > 2:\n",
    "            print('%g is invalid selection' %selected)\n",
    "            fin = input('You want repeat or exit?')\n",
    "            try:\n",
    "                if fin == 'repeat':\n",
    "                    return initial\n",
    "                elif fin == 'exit':\n",
    "                    print('Thank You')\n",
    "                else:\n",
    "                    print(\"Adoyai\")\n",
    "            except ValueError:\n",
    "                print(\"Adoyai\")\n",
    "            \n",
    "    except ValueError:\n",
    "        print('You click another button, we restart the question')\n",
    "        initial()\n",
    "        \n",
    "    finally:\n",
    "        selection(x, y, selected)\n",
    "\n",
    "initial()"
   ]
  },
  {
   "cell_type": "markdown",
   "metadata": {},
   "source": [
    "Second Attempt"
   ]
  },
  {
   "cell_type": "code",
   "execution_count": 74,
   "metadata": {},
   "outputs": [
    {
     "name": "stdout",
     "output_type": "stream",
     "text": [
      "Welcome to the converter \n",
      "\n",
      "Input X: awd\n",
      "Adoyai, number only boskur!\n",
      "Invalid number\n",
      "If you want to play this game again click \"Y\" else, click \"N\": \n",
      "Y\n",
      "Welcome to the converter \n",
      "\n",
      "Input X: 12\n",
      "Input Y: 56\n"
     ]
    },
    {
     "data": {
      "text/latex": [
       "$\\displaystyle \\text{Press \"1\" to compute } {12}^{56} \\text{ or \"2\" to compute } \\frac{12}{56}$"
      ],
      "text/plain": [
       "<IPython.core.display.Math object>"
      ]
     },
     "metadata": {},
     "output_type": "display_data"
    },
    {
     "name": "stdout",
     "output_type": "stream",
     "text": [
      "Nonek\n",
      "Invalid number\n",
      "If you want to play this game again click \"Y\" else, click \"N\": \n",
      "Y\n",
      "Welcome to the converter \n",
      "\n",
      "Input X: 23\n",
      "Input Y: 54\n"
     ]
    },
    {
     "data": {
      "text/latex": [
       "$\\displaystyle \\text{Press \"1\" to compute } {23}^{54} \\text{ or \"2\" to compute } \\frac{23}{54}$"
      ],
      "text/plain": [
       "<IPython.core.display.Math object>"
      ]
     },
     "metadata": {},
     "output_type": "display_data"
    },
    {
     "name": "stdout",
     "output_type": "stream",
     "text": [
      "None2\n"
     ]
    },
    {
     "data": {
      "text/latex": [
       "$\\displaystyle \\frac{23}{54} = 0.425926$"
      ],
      "text/plain": [
       "<IPython.core.display.Math object>"
      ]
     },
     "metadata": {},
     "output_type": "display_data"
    }
   ],
   "source": [
    "from IPython.display import display,Math\n",
    "\n",
    "\n",
    "def power(x,y):\n",
    "    \"\"\"Just to display power in proper way\"\"\"\n",
    "    display(Math('{%g}^{%g} = %g' %(x,y,x**y)))\n",
    "    \n",
    "def frac(x,y):\n",
    "    \"\"\"Just to display fraction in proper way\"\"\"\n",
    "    display(Math('\\\\frac{%g}{%g} = %g' %(x,y,x/y)))\n",
    "    \n",
    "def cari_gaduh():\n",
    "    \n",
    "    print('Invalid number')\n",
    "    ans = input('If you want to play this game again click \"Y\" else, click \"N\": \\n')\n",
    "    if ans == \"Y\":\n",
    "        return main_func()\n",
    "    elif ans == \"N\":\n",
    "        print('Goodbye\\n')\n",
    "    else:\n",
    "        print('Cari gaduh?\\n')\n",
    "        return cari_gaduh()\n",
    "    \n",
    "def main_func():\n",
    "    \n",
    "    print('Welcome to the converter \\n')\n",
    "    try:\n",
    "        input_x = int(input('Input X: '))\n",
    "    except ValueError:\n",
    "        print('Adoyai, number only boskur!')\n",
    "        return cari_gaduh()\n",
    "        \n",
    "    try:\n",
    "        input_y = int(input('Input Y: '))\n",
    "    except ValueError:\n",
    "        print('Adoyai, number only boskur!')\n",
    "        return cari_gaduh()\n",
    "    \n",
    "    input_process = str(input(display(Math('\\\\text{Press \"1\" to compute } {%s}^{%s} \\\\text{ or \"2\" to compute } \\\\frac{%s}{%s}' %(input_x, input_y, input_x, input_y,)))))\n",
    "    \n",
    "    try:\n",
    "        if input_process == '1':\n",
    "            return power(input_x, input_y)\n",
    "        elif input_process == '2':\n",
    "            return frac(input_x, input_y)\n",
    "        else:\n",
    "            return cari_gaduh()\n",
    "    except ValueError:\n",
    "        print('Adoyai')\n",
    "        return cari_gaduh()\n",
    "\n",
    "main_func()"
   ]
  },
  {
   "cell_type": "markdown",
   "metadata": {},
   "source": [
    "Ahmad Hazim, the above script you made by yourself, you should proud of your skill."
   ]
  },
  {
   "cell_type": "markdown",
   "metadata": {},
   "source": [
    "# 20. Create Interactive Math Function"
   ]
  },
  {
   "cell_type": "markdown",
   "metadata": {},
   "source": [
    "Kali kita nak buat guess_number game"
   ]
  },
  {
   "cell_type": "code",
   "execution_count": 41,
   "metadata": {},
   "outputs": [
    {
     "name": "stdout",
     "output_type": "stream",
     "text": [
      "Guess a number between 1 and 100 : 12\n",
      "[6]\n",
      "Almost there!\n",
      "Guess again : 6\n",
      "Congratulation! You are so lucky today, the answer is 6!\n",
      "Do you want to play again? Y/N :n\n",
      "Goodbye\n"
     ]
    }
   ],
   "source": [
    "from IPython.display import display\n",
    "from numpy import random\n",
    "\n",
    "generated_store = []\n",
    "guesses_store = []\n",
    "\n",
    "\n",
    "def repeat():\n",
    "    \n",
    "    ans = generated_store[0]\n",
    "\n",
    "    if len(guesses_store) == 0:\n",
    "        print('Congratulation! You are so lucky today, the answer is %g!' %ans)\n",
    "        ask = input('Do you want to play again? Y/N :')\n",
    "            \n",
    "    else:\n",
    "        print('Congratulation! The answer is %g, and you have tried %g times!' %(ans,len(guesses_store)))\n",
    "        ask = input('Do you want to play again? Y/N :')\n",
    "        \n",
    "    if ask.lower() == 'y':\n",
    "        return guessTheNumber()\n",
    "    \n",
    "    elif ask.lower() == 'n':\n",
    "        print('Goodbye')\n",
    "        \n",
    "    else:\n",
    "        print('Invalid answer')\n",
    "        return repeat()\n",
    "\n",
    "\n",
    "def guessTheNumber():\n",
    "    \n",
    "    generated = random.randint(1,101)\n",
    "    generated_store.append(generated)\n",
    "    \n",
    "    try:\n",
    "        guessed = int(input('Guess a number between 1 and 100 : '))\n",
    "        print(generated_store)\n",
    "        \n",
    "\n",
    "        while guessed != generated:\n",
    "\n",
    "            ans = abs(guessed - generated)\n",
    "\n",
    "            if ans <= 10:\n",
    "                print('Almost there!')\n",
    "                guessed = int(input('Guess again : '))\n",
    "                continue\n",
    "\n",
    "            elif ans >= 10:\n",
    "                print('Guess higher, too far!')\n",
    "                guessed = int(input('Guess again : '))\n",
    "                guesses_store.append(guessed)\n",
    "                continue\n",
    "\n",
    "        repeat()\n",
    "        \n",
    "    except ValueError:\n",
    "        print('Only numbers are allowed')\n",
    "        return guessTheNumber()\n",
    "        \n",
    "        \n",
    "guessTheNumber()"
   ]
  },
  {
   "cell_type": "markdown",
   "metadata": {},
   "source": [
    "Ahmad Hazim, the above script you made by yourself, you should proud of your skill."
   ]
  },
  {
   "cell_type": "markdown",
   "metadata": {},
   "source": [
    "# 21. Arithmetic bug hunt!"
   ]
  },
  {
   "cell_type": "code",
   "execution_count": null,
   "metadata": {},
   "outputs": [],
   "source": []
  }
 ],
 "metadata": {
  "kernelspec": {
   "display_name": "Python 3",
   "language": "python",
   "name": "python3"
  },
  "language_info": {
   "codemirror_mode": {
    "name": "ipython",
    "version": 3
   },
   "file_extension": ".py",
   "mimetype": "text/x-python",
   "name": "python",
   "nbconvert_exporter": "python",
   "pygments_lexer": "ipython3",
   "version": "3.7.4"
  }
 },
 "nbformat": 4,
 "nbformat_minor": 2
}
